{
 "cells": [
  {
   "cell_type": "code",
   "execution_count": 8,
   "metadata": {},
   "outputs": [],
   "source": [
    "import pandas\n",
    "import copy\n",
    "\n",
    "col_position = 'Position'\n",
    "col_track = 'Track Name'\n",
    "col_artist = 'Artist'\n",
    "col_stream = 'Streams'\n",
    "col_url = 'URL'\n",
    "col_date = 'Date'\n",
    "col_region = 'Region'\n",
    "col_continent = 'Continent'"
   ]
  },
  {
   "cell_type": "code",
   "execution_count": 14,
   "metadata": {},
   "outputs": [],
   "source": [
    "def read_data():\n",
    "    return pandas.read_csv('data.csv')\n",
    "\n",
    "def question_1(_df):\n",
    "    df_global = _df[_df[col_region] == 'global']\n",
    "    df_global_track_stream = df_global[[col_track, col_stream]].groupby(by=col_track).sum()\n",
    "    tmp = df_global_track_stream.sort_values(by=col_stream, ascending=False)\n",
    "    print('Top 10 tracks in the global throught year 2017')\n",
    "    print(tmp[:10].reset_index())\n",
    "\n",
    "def question_2(_df):\n",
    "    df_artist = _df[[col_artist, col_stream]].groupby(by=col_artist).sum()\n",
    "    tmp = df_artist.sort_values(by=col_stream, ascending=False)\n",
    "    print('Top 10 artists')\n",
    "    print(tmp[:10].reset_index())\n",
    "\n",
    "def question_3(_df):\n",
    "    import json\n",
    "    with open('countries.json', encoding=\"utf8\") as fin:\n",
    "        country = json.load(fin)\n",
    "\n",
    "    def region2continent(region):\n",
    "        return country[region.upper()]['continent']\n",
    "\n",
    "    df_copy = copy.deepcopy(_df)\n",
    "    df_copy['Date'] = pandas.to_datetime(df_copy['Date'])\n",
    "    mask =  (df_copy['Date'] >= '2017-12-01') & (df_copy['Date'] <= '2017-12-31')\n",
    "    df_201712 = _df[mask]\n",
    "\n",
    "    country['GLOBAL'] = {}\n",
    "    country['GLOBAL']['continent'] = 'global'\n",
    "    df_201712[col_continent] = df_201712['Region'].apply(region2continent)\n",
    "    \n",
    "    df_201712_continent = df_201712[[col_track, col_stream, col_continent]].groupby(col_continent).apply(pandas.DataFrame)\n",
    "\n",
    "    continents = df_201712[col_continent].unique()\n",
    "    continents_str_map = {'NA': 'North America', 'EU': 'Europe', 'AS': 'Asia', 'SA': 'South America', 'OC': 'Oceania'}\n",
    "    for each in continents:\n",
    "        if each == 'global':\n",
    "            continue\n",
    "        this_df = df_201712_continent[ df_201712_continent[col_continent] == each]\n",
    "        this_df_sorted = this_df.groupby(col_track).sum().sort_values(by=col_stream, ascending=False)\n",
    "        print('Top 10 tracks for continent %s in December 2017'%continents_str_map[each])\n",
    "        print(this_df_sorted[:10].reset_index())\n",
    "\n",
    "def question_4(_df):\n",
    "    import numpy\n",
    "    shape_of_you = 'Shape of You'\n",
    "    df_shape_of_you = _df[ _df[col_track] == shape_of_you]\n",
    "    days = df_shape_of_you[col_date].unique()\n",
    "\n",
    "    x_numbers = range(len(days))\n",
    "\n",
    "    def sortDays(day_str):\n",
    "        from datetime import datetime\n",
    "        return datetime.strptime(day_str, '%Y-%m-%d')\n",
    "    sorted(days, key=sortDays)\n",
    "\n",
    "    ranks = list()\n",
    "    stream_counts = list()\n",
    "\n",
    "    for each_day in days:\n",
    "        df_day = _df[ _df[col_date] == each_day]\n",
    "\n",
    "        df_tmp = df_day[[col_track, col_stream]].groupby(by=col_track).sum()\n",
    "        df_rank = df_tmp.sort_values(by=col_stream, ascending=False).reset_index()\n",
    "        rank_shape_of_you = numpy.where(df_rank[col_track] == shape_of_you)[0][0] + 1\n",
    "        stream_counts.append(df_rank.iloc[rank_shape_of_you-1][col_stream])\n",
    "        ranks.append(rank_shape_of_you)\n",
    "\n",
    "    import matplotlib.pyplot as plt\n",
    "    fig, ax1 = plt.subplots()\n",
    "    ax1.plot(x_numbers, ranks, color='b')\n",
    "    ax1.set_ylabel('Ranks', color='b')\n",
    "    ax1.tick_params('y', colors='b')\n",
    "    ax1.invert_yaxis()\n",
    "    ax1.set_xlabel('Day')\n",
    "\n",
    "    ax2 =ax1.twinx()\n",
    "    ax2.plot(x_numbers, stream_counts, color='r')\n",
    "    ax2.set_ylabel('Stream counts', color='r')\n",
    "    ax2.tick_params('y', colors='r')\n",
    "\n",
    "    plt.tight_layout()\n",
    "    plt.show()\n"
   ]
  },
  {
   "cell_type": "code",
   "execution_count": 15,
   "metadata": {},
   "outputs": [],
   "source": [
    "data = read_data()"
   ]
  },
  {
   "cell_type": "code",
   "execution_count": 16,
   "metadata": {},
   "outputs": [
    {
     "name": "stdout",
     "output_type": "stream",
     "text": [
      "Top 10 tracks in the global throught year 2017\n",
      "                           Track Name     Streams\n",
      "0                        Shape of You  1490812208\n",
      "1                   Despacito - Remix   919199404\n",
      "2  Despacito (Featuring Daddy Yankee)   742841612\n",
      "3            Something Just Like This   692404365\n",
      "4                       Unforgettable   678399824\n",
      "5                             HUMBLE.   662179904\n",
      "6                         I'm the One   636419786\n",
      "7                            rockstar   631519085\n",
      "8     It Ain't Me (with Selena Gomez)   604115906\n",
      "9                       XO TOUR Llif3   593112026\n"
     ]
    }
   ],
   "source": [
    "question_1(data)"
   ]
  },
  {
   "cell_type": "code",
   "execution_count": 17,
   "metadata": {},
   "outputs": [
    {
     "name": "stdout",
     "output_type": "stream",
     "text": [
      "Top 10 artists\n",
      "             Artist     Streams\n",
      "0        Ed Sheeran  8913973976\n",
      "1             Drake  4523630992\n",
      "2  The Chainsmokers  4292590087\n",
      "3       Post Malone  3700404149\n",
      "4    Kendrick Lamar  3570665303\n",
      "5        Luis Fonsi  3555514919\n",
      "6          J Balvin  2494735971\n",
      "7     Calvin Harris  2397708371\n",
      "8   Imagine Dragons  2322921399\n",
      "9         DJ Khaled  2236224259\n"
     ]
    }
   ],
   "source": [
    "question_2(data)"
   ]
  },
  {
   "cell_type": "code",
   "execution_count": 18,
   "metadata": {},
   "outputs": [
    {
     "name": "stderr",
     "output_type": "stream",
     "text": [
      "C:\\Users\\18325\\Anaconda3\\lib\\site-packages\\ipykernel_launcher.py:32: SettingWithCopyWarning: \n",
      "A value is trying to be set on a copy of a slice from a DataFrame.\n",
      "Try using .loc[row_indexer,col_indexer] = value instead\n",
      "\n",
      "See the caveats in the documentation: http://pandas.pydata.org/pandas-docs/stable/indexing.html#indexing-view-versus-copy\n"
     ]
    },
    {
     "name": "stdout",
     "output_type": "stream",
     "text": [
      "Top 10 tracks for continent South America in December 2017\n",
      "                                          Track Name   Streams\n",
      "0                                           Downtown  24552969\n",
      "1                                    Échame La Culpa  24536523\n",
      "2  Vai malandra (feat. Tropkillaz e DJ Yuri Martins)  19796363\n",
      "3                                            Corazón  19525970\n",
      "4                                        Sensualidad  19120900\n",
      "5                                           Criminal  18427097\n",
      "6                                             Havana  15654155\n",
      "7                                          New Rules  15472698\n",
      "8            Déjala Que Vuelva (feat. Manuel Turizo)  15357243\n",
      "9                                         Se Preparó  15108884\n",
      "Top 10 tracks for continent Europe in December 2017\n",
      "                            Track Name   Streams\n",
      "0                             rockstar  55770638\n",
      "1      All I Want for Christmas Is You  50177904\n",
      "2                               Havana  47009561\n",
      "3                       Last Christmas  43403758\n",
      "4  Perfect Duet (Ed Sheeran & Beyoncé)  40131931\n",
      "5                         Let You Down  37070183\n",
      "6                               Wolves  37040316\n",
      "7                            New Rules  36052946\n",
      "8                              Perfect  35176113\n",
      "9             River (feat. Ed Sheeran)  33752057\n",
      "Top 10 tracks for continent Asia in December 2017\n",
      "                                          Track Name   Streams\n",
      "0                                             Havana  14704046\n",
      "1                               Too Good At Goodbyes  12151470\n",
      "2                                            Perfect  12126620\n",
      "3                                             Wolves  11745050\n",
      "4                                          New Rules  11535430\n",
      "5                         What Lovers Do (feat. SZA)  10880513\n",
      "6                Perfect Duet (Ed Sheeran & Beyoncé)   9004183\n",
      "7  Let Me Go (with Alesso, Florida Georgia Line &...   8279975\n",
      "8                                 Young Dumb & Broke   8241744\n",
      "9                        Dusk Till Dawn - Radio Edit   8202373\n",
      "Top 10 tracks for continent Oceania in December 2017\n",
      "                                          Track Name  Streams\n",
      "0                                       Let You Down  8812724\n",
      "1                                           rockstar  8014407\n",
      "2                                       I Fall Apart  7703310\n",
      "3                                             Havana  6514283\n",
      "4                                            Silence  6421820\n",
      "5                                             Wolves  5594006\n",
      "6                         What Lovers Do (feat. SZA)  5401333\n",
      "7                                 Young Dumb & Broke  5395800\n",
      "8                                          New Rules  5355194\n",
      "9  Let Me Go (with Alesso, Florida Georgia Line &...  5172326\n",
      "Top 10 tracks for continent North America in December 2017\n",
      "                        Track Name   Streams\n",
      "0                         rockstar  62265844\n",
      "1                       Gucci Gang  40603607\n",
      "2                           Havana  33811360\n",
      "3                     I Fall Apart  32428856\n",
      "4                         No Limit  30647154\n",
      "5  Ric Flair Drip (& Metro Boomin)  30549341\n",
      "6  All I Want for Christmas Is You  30367655\n",
      "7            Him & I (with Halsey)  29233567\n",
      "8             Too Good At Goodbyes  28804277\n",
      "9                      Candy Paint  28639843\n"
     ]
    }
   ],
   "source": [
    "question_3(data)"
   ]
  },
  {
   "cell_type": "code",
   "execution_count": 13,
   "metadata": {},
   "outputs": [
    {
     "data": {
      "image/png": "[encoded data removed]",
      "text/plain": [
       "<matplotlib.figure.Figure at 0x1b32e579240>"
      ]
     },
     "metadata": {},
     "output_type": "display_data"
    }
   ],
   "source": [
    "question_4(data)"
   ]
  },
  {
   "cell_type": "code",
   "execution_count": null,
   "metadata": {},
   "outputs": [],
   "source": []
  }
 ],
 "metadata": {
  "kernelspec": {
   "display_name": "Python 3",
   "language": "python",
   "name": "python3"
  },
  "language_info": {
   "codemirror_mode": {
    "name": "ipython",
    "version": 3
   },
   "file_extension": ".py",
   "mimetype": "text/x-python",
   "name": "python",
   "nbconvert_exporter": "python",
   "pygments_lexer": "ipython3",
   "version": "3.6.4"
  }
 },
 "nbformat": 4,
 "nbformat_minor": 2
}
